{
 "cells": [
  {
   "cell_type": "code",
   "execution_count": 35,
   "id": "311512ae-96ea-404c-b0df-b04e5eb1c2d2",
   "metadata": {
    "tags": []
   },
   "outputs": [],
   "source": [
    "import pandas as pd\n",
    "import pandahouse\n",
    "import numpy as np\n",
    "import seaborn as sns\n",
    "from scipy.stats import ttest_ind, poisson\n",
    "import matplotlib.pyplot as plt\n"
   ]
  },
  {
   "cell_type": "markdown",
   "id": "722a5809-9827-45e6-9193-e269b20829e8",
   "metadata": {},
   "source": [
    "## Задание 1. A/A test"
   ]
  },
  {
   "cell_type": "code",
   "execution_count": 32,
   "id": "b5ade637-bf08-45c7-9637-8331c83eac82",
   "metadata": {},
   "outputs": [
    {
     "data": {
      "text/html": [
       "<div>\n",
       "<style scoped>\n",
       "    .dataframe tbody tr th:only-of-type {\n",
       "        vertical-align: middle;\n",
       "    }\n",
       "\n",
       "    .dataframe tbody tr th {\n",
       "        vertical-align: top;\n",
       "    }\n",
       "\n",
       "    .dataframe thead th {\n",
       "        text-align: right;\n",
       "    }\n",
       "</style>\n",
       "<table border=\"1\" class=\"dataframe\">\n",
       "  <thead>\n",
       "    <tr style=\"text-align: right;\">\n",
       "      <th></th>\n",
       "      <th>user_id</th>\n",
       "      <th>likes</th>\n",
       "      <th>views</th>\n",
       "      <th>ctr</th>\n",
       "    </tr>\n",
       "    <tr>\n",
       "      <th>exp_group</th>\n",
       "      <th></th>\n",
       "      <th></th>\n",
       "      <th></th>\n",
       "      <th></th>\n",
       "    </tr>\n",
       "  </thead>\n",
       "  <tbody>\n",
       "    <tr>\n",
       "      <th>2</th>\n",
       "      <td>8480</td>\n",
       "      <td>8480</td>\n",
       "      <td>8480</td>\n",
       "      <td>8480</td>\n",
       "    </tr>\n",
       "    <tr>\n",
       "      <th>3</th>\n",
       "      <td>8569</td>\n",
       "      <td>8569</td>\n",
       "      <td>8569</td>\n",
       "      <td>8569</td>\n",
       "    </tr>\n",
       "  </tbody>\n",
       "</table>\n",
       "</div>"
      ],
      "text/plain": [
       "           user_id  likes  views   ctr\n",
       "exp_group                             \n",
       "2             8480   8480   8480  8480\n",
       "3             8569   8569   8569  8569"
      ]
     },
     "execution_count": 32,
     "metadata": {},
     "output_type": "execute_result"
    }
   ],
   "source": [
    "def ab_split(id, salt='exp_mess_1', n_groups=5):\n",
    "    test_id = str(id) + '-' + str(salt)\n",
    "    test_id_digest = hashlib.md5(test_id.encode('ascii')).hexdigest()\n",
    "    test_id_final_int = int(test_id_digest, 16)\n",
    "    return test_id_final_int % n_groups\n",
    "\n",
    "connection = {\n",
    "    'host': 'https://clickhouse.lab.karpov.courses',\n",
    "    'password': 'dpo_python_2020',\n",
    "    'user': 'student',\n",
    "    'database': 'simulator_20230620'\n",
    "}\n",
    "\n",
    "q = \"\"\"\n",
    "SELECT exp_group, \n",
    "    user_id,\n",
    "    sum(action = 'like') as likes,\n",
    "    sum(action = 'view') as views,\n",
    "    likes/views as ctr\n",
    "FROM {db}.feed_actions\n",
    "WHERE toDate(time) >= '2023-05-24' and toDate(time) <= '2023-05-30' and exp_group in (2,3)\n",
    "GROUP BY exp_group, user_id\n",
    "\"\"\"\n",
    "\n",
    "df = pandahouse.read_clickhouse(q, connection=connection)\n",
    "df.groupby('exp_group').count()"
   ]
  },
  {
   "cell_type": "code",
   "execution_count": 2,
   "id": "79c1a672-d0f0-4400-af3d-50a96269bf69",
   "metadata": {},
   "outputs": [
    {
     "data": {
      "image/png": "[encoded data removed]",
      "text/plain": [
       "<Figure size 432x288 with 1 Axes>"
      ]
     },
     "metadata": {
      "needs_background": "light"
     },
     "output_type": "display_data"
    },
    {
     "name": "stdout",
     "output_type": "stream",
     "text": [
      "Percentage of p-values <= 0.05: 4.42%\n"
     ]
    }
   ],
   "source": [
    "# Создание списка для хранения p-values\n",
    "p_values = []\n",
    "\n",
    "# Проведение симуляции 10000 А/А-тестов\n",
    "num_simulations = 10000\n",
    "sample_size = 500\n",
    "\n",
    "for _ in range(num_simulations):\n",
    "    # Формирование подвыборок без повторений из 2 и 3 экспериментальной группы\n",
    "    group2_sample = df[df['exp_group'] == 2].sample(sample_size, replace=False)\n",
    "    group3_sample = df[df['exp_group'] == 3].sample(sample_size, replace=False)\n",
    "\n",
    "    # Выполнение t-теста для сравнения подвыборок\n",
    "    _, p_value = ttest_ind(group2_sample['ctr'], group3_sample['ctr'])\n",
    "    p_values.append(p_value)\n",
    "\n",
    "# Построение гистограммы распределения p-values\n",
    "\n",
    "plt.hist(p_values, bins=30, edgecolor='black')\n",
    "plt.xlabel('p-value')\n",
    "plt.ylabel('Frequency')\n",
    "plt.title('Distribution of p-values')\n",
    "plt.show()\n",
    "\n",
    "# Вычисление процента p-values <= 0.05\n",
    "p_values = np.array(p_values)\n",
    "percentage = np.mean(p_values <= 0.05) * 100\n",
    "print(f'Percentage of p-values <= 0.05: {percentage}%')\n"
   ]
  },
  {
   "cell_type": "markdown",
   "id": "c3e9e4a4-14d6-4804-a92d-718f3897f9ff",
   "metadata": {},
   "source": [
    "Проведенная симуляция А/А-теста показала, что процент p-values меньше или равных 0.05 составляет 4.6%. Это означает, что только в приблизительно 4.6% случаев мы бы получили статистически значимые различия между группами (2 и 3 экспериментальной группой). Похоже, что наша система сплитования в целом работает корректно."
   ]
  },
  {
   "cell_type": "markdown",
   "id": "7426095e-fbf8-4e72-9c78-7433accafbcd",
   "metadata": {},
   "source": [
    "## Задание 2. Сглаженный CTR и А/B test"
   ]
  },
  {
   "cell_type": "code",
   "execution_count": 85,
   "id": "8a6eaba6-df72-4146-b8c8-687407d6fa8a",
   "metadata": {},
   "outputs": [
    {
     "data": {
      "image/png": "[encoded data removed]",
      "text/plain": [
       "<Figure size 432x288 with 1 Axes>"
      ]
     },
     "metadata": {
      "needs_background": "light"
     },
     "output_type": "display_data"
    }
   ],
   "source": [
    "\n",
    "connection = {\n",
    "    'host': 'https://clickhouse.lab.karpov.courses',\n",
    "    'password': 'dpo_python_2020',\n",
    "    'user': 'student',\n",
    "    'database': 'simulator_20230620'\n",
    "}\n",
    "\n",
    "q2 = \"\"\"\n",
    "SELECT exp_group, \n",
    "    user_id,\n",
    "    sum(action = 'like') as likes,\n",
    "    sum(action = 'view') as views,\n",
    "    likes/views as ctr\n",
    "FROM {db}.feed_actions\n",
    "WHERE toDate(time) >= '2023-05-31' and toDate(time) <= '2023-06-06'\n",
    "GROUP BY exp_group, user_id\n",
    "\"\"\"\n",
    "\n",
    "df = pandahouse.read_clickhouse(q2, connection=connection)\n",
    "group1 = df[df['exp_group'] == 1].copy()\n",
    "group2 = df[df['exp_group'] == 2].copy()\n",
    "\n",
    "plt.hist(group1['ctr'], alpha=0.5, label='Control group')\n",
    "plt.hist(group2['ctr'], alpha=0.5, label='Target group')\n",
    "plt.xlabel('CTR')\n",
    "plt.ylabel('Frequency')\n",
    "plt.legend()\n",
    "plt.title('Distribution of CTR')\n",
    "plt.show()\n"
   ]
  },
  {
   "cell_type": "markdown",
   "id": "4357b3d8-5484-4e9c-bae0-acb83d8b13f1",
   "metadata": {},
   "source": [
    "Хочется сгладить CTR, чтобы нивелировать выбросы, а потом провести t-test"
   ]
  },
  {
   "cell_type": "code",
   "execution_count": 86,
   "id": "086560c8-34c7-4fc3-81de-f5196bddda1f",
   "metadata": {},
   "outputs": [],
   "source": [
    "# Рассчитаем групповые CTR:\n",
    "global_ctr_1 = group1.likes.sum()/group1.views.sum()\n",
    "global_ctr_2 = group2.likes.sum()/group2.views.sum()"
   ]
  },
  {
   "cell_type": "code",
   "execution_count": 87,
   "id": "ac807c9f-b27e-441a-80c3-e7eaafb0b85b",
   "metadata": {},
   "outputs": [],
   "source": [
    "# Посчитаем сглаженный CTR:\n",
    "def get_smothed_ctr(user_likes, user_views, global_ctr, alpha):\n",
    "    smothed_ctr = (user_likes + alpha * global_ctr) / (user_views + alpha)\n",
    "    return smothed_ctr\n",
    "\n",
    "group1['smoothed_ctr'] = df.apply(\n",
    "    lambda x: get_smothed_ctr(x['likes'], x['views'], global_ctr_1, 5), axis=1)\n",
    "group2['smoothed_ctr'] = df.apply(\n",
    "    lambda x: get_smothed_ctr(x['likes'], x['views'], global_ctr_2, 5), axis=1)"
   ]
  },
  {
   "cell_type": "code",
   "execution_count": 88,
   "id": "3b99ad68-c48e-4b54-b17e-8a0cbcd5b405",
   "metadata": {},
   "outputs": [
    {
     "data": {
      "text/plain": [
       "Ttest_indResult(statistic=2.2841320431616983, pvalue=0.022376981555855876)"
      ]
     },
     "execution_count": 88,
     "metadata": {},
     "output_type": "execute_result"
    }
   ],
   "source": [
    "# Теперь можно перейти к t-test:\n",
    "from scipy import stats\n",
    "\n",
    "stats.ttest_ind(group1.smoothed_ctr,\n",
    "                group2.smoothed_ctr,\n",
    "                equal_var=False)"
   ]
  },
  {
   "cell_type": "code",
   "execution_count": 89,
   "id": "93831190-3072-4cdb-83be-fba9f52f1fbe",
   "metadata": {},
   "outputs": [
    {
     "data": {
      "image/png": "[encoded data removed]",
      "text/plain": [
       "<Figure size 432x288 with 1 Axes>"
      ]
     },
     "metadata": {
      "needs_background": "light"
     },
     "output_type": "display_data"
    }
   ],
   "source": [
    "# Посмотрим на распределения сглаженного CTR:\n",
    "plt.hist(group1['smoothed_ctr'], alpha=0.5, label='Control group')\n",
    "plt.hist(group2['smoothed_ctr'], alpha=0.5, label='Target group')\n",
    "plt.xlabel('smoothed CTR')\n",
    "plt.ylabel('Frequency')\n",
    "plt.legend()\n",
    "plt.title('Distribution of smoothed CTR')\n",
    "plt.show()"
   ]
  },
  {
   "cell_type": "markdown",
   "id": "e38f8b99-547a-40c7-abe4-53c5df266c51",
   "metadata": {},
   "source": [
    "T-test говорит, что группы статистически отличаются, но при взгляде на график это не кажется таким очевидным. Чтобы лучше оценить распределения этих двух групп, можно провести Пуассоновский бутстреп (который побыстрее обычного)."
   ]
  },
  {
   "cell_type": "code",
   "execution_count": 91,
   "id": "c0b600c6-ca34-49f0-82a5-58c6982c32da",
   "metadata": {},
   "outputs": [
    {
     "data": {
      "text/plain": [
       "<Axes: ylabel='Count'>"
      ]
     },
     "execution_count": 91,
     "metadata": {},
     "output_type": "execute_result"
    },
    {
     "data": {
      "image/png": "[encoded data removed]",
      "text/plain": [
       "<Figure size 432x288 with 1 Axes>"
      ]
     },
     "metadata": {
      "needs_background": "light"
     },
     "output_type": "display_data"
    }
   ],
   "source": [
    "def bootstrap(likes1, views1, likes2, views2, n_bootstrap=2000):\n",
    "\n",
    "    poisson_bootstraps1 = stats.poisson(1).rvs(\n",
    "        (n_bootstrap, len(likes1))).astype(np.int64)\n",
    "\n",
    "    poisson_bootstraps2 = stats.poisson(1).rvs(\n",
    "            (n_bootstrap, len(likes2))).astype(np.int64)\n",
    "    \n",
    "    globalCTR1 = (poisson_bootstraps1*likes1).sum(axis=1)/(poisson_bootstraps1*views1).sum(axis=1)\n",
    "    \n",
    "    globalCTR2 = (poisson_bootstraps2*likes2).sum(axis=1)/(poisson_bootstraps2*views2).sum(axis=1)\n",
    "\n",
    "    return globalCTR1, globalCTR2\n",
    "\n",
    "likes1 = df[df.exp_group == 1].likes.to_numpy()\n",
    "views1 = df[df.exp_group == 1].views.to_numpy()\n",
    "likes2 = df[df.exp_group == 2].likes.to_numpy()\n",
    "views2 = df[df.exp_group == 2].views.to_numpy()\n",
    "\n",
    "ctr1, ctr2 = bootstrap(likes1, views1, likes2, views2)\n",
    "\n",
    "sns.histplot(ctr1)\n",
    "sns.histplot(ctr2)"
   ]
  },
  {
   "cell_type": "markdown",
   "id": "5c16baba-5c6c-4ff4-8b2f-4c12eb33b693",
   "metadata": {},
   "source": [
    "Теперь сомнений не осталось - алгоритм работает, можно выкатывать на всех пользователей."
   ]
  },
  {
   "cell_type": "markdown",
   "id": "c36e1ea8-317f-41fe-b6ba-e31591ff95df",
   "metadata": {},
   "source": [
    "## Задание 3. Линеаризированные лайки"
   ]
  },
  {
   "cell_type": "markdown",
   "id": "1eaf6487-b8b5-4b23-a3cd-d8dbbd6d47d8",
   "metadata": {},
   "source": [
    "Посчитаем линеаризованные лайки в группах 0 и 3. На всякий случай повторим что есть что:\n",
    "* exp_group = 0 – Все по-старому\n",
    "* exp_group = 3 - Рекомендации \"постов, которые лайкали похожие на вас люди\"\n"
   ]
  },
  {
   "cell_type": "code",
   "execution_count": 3,
   "id": "37c8786c-e948-4a59-a20b-284ee96ab707",
   "metadata": {},
   "outputs": [],
   "source": [
    "connection = {\n",
    "    'host': 'https://clickhouse.lab.karpov.courses',\n",
    "    'password': 'dpo_python_2020',\n",
    "    'user': 'student',\n",
    "    'database': 'simulator_20230620'\n",
    "}\n",
    "\n",
    "q3 = \"\"\"\n",
    "WITH CTR_control as\n",
    "    (SELECT sum(action = 'like') / sum(action = 'view') as CTR_control\n",
    "    FROM {db}.feed_actions\n",
    "    WHERE exp_group = 0)\n",
    "    \n",
    "SELECT \n",
    "    exp_group,\n",
    "    user_id,\n",
    "    sum(action = 'like') as likes,\n",
    "    sum(action = 'view') as views,\n",
    "    sum(action = 'like') / sum(action = 'view') as ctr,\n",
    "    sum(action = 'like') - (SELECT CTR_control FROM CTR_control) * sum(action = 'view') as linerized_likes\n",
    "FROM {db}.feed_actions\n",
    "WHERE \n",
    "    toDate(time) >= '2023-05-31' AND \n",
    "    toDate(time) <= '2023-06-06' AND \n",
    "    exp_group IN (0, 3)\n",
    "GROUP BY exp_group, user_id\n",
    "\"\"\"\n",
    "df = pandahouse.read_clickhouse(q3, connection=connection)\n",
    "group0 = df[df['exp_group'] == 0].copy()\n",
    "group3 = df[df['exp_group'] == 3].copy()"
   ]
  },
  {
   "cell_type": "code",
   "execution_count": 4,
   "id": "1b75dc89-1cb0-445a-b29c-032a0d583178",
   "metadata": {},
   "outputs": [
    {
     "data": {
      "text/plain": [
       "Ttest_indResult(statistic=-15.209006203907894, pvalue=6.011422065955615e-52)"
      ]
     },
     "execution_count": 4,
     "metadata": {},
     "output_type": "execute_result"
    }
   ],
   "source": [
    "from scipy import stats\n",
    "\n",
    "stats.ttest_ind(group0.linerized_likes,\n",
    "                group3.linerized_likes,\n",
    "                equal_var=False)"
   ]
  },
  {
   "cell_type": "code",
   "execution_count": 5,
   "id": "bc094157-06b5-4f08-ac0e-d63103f7c51f",
   "metadata": {},
   "outputs": [
    {
     "data": {
      "image/png": "[encoded data removed]",
      "text/plain": [
       "<Figure size 432x288 with 1 Axes>"
      ]
     },
     "metadata": {
      "needs_background": "light"
     },
     "output_type": "display_data"
    }
   ],
   "source": [
    "# взглянем на график:\n",
    "plt.hist(group0['linerized_likes'], alpha=0.5, label='Control group')\n",
    "plt.hist(group3['linerized_likes'], alpha=0.5, label='Target group')\n",
    "plt.xlabel('linerized likes')\n",
    "plt.ylabel('Frequency')\n",
    "plt.legend()\n",
    "plt.title('Distribution of linerized likes')\n",
    "plt.show()"
   ]
  },
  {
   "cell_type": "markdown",
   "id": "51324776-d70d-4546-a38d-214aefc0313d",
   "metadata": {},
   "source": [
    "Похоже что новый алгоритм работает, t-test также показал стат. значимое различие. \n",
    "Теперь перейдем к проверки другого алгоритма:\n",
    "* exp_group = 1 - Все по-старому\n",
    "* exp_group = 2 - Рекомендации \"похожих на лайкнутые постов\""
   ]
  },
  {
   "cell_type": "code",
   "execution_count": 30,
   "id": "488b9818-a73b-4eba-bcab-32f194ce06a3",
   "metadata": {},
   "outputs": [],
   "source": [
    "connection = {\n",
    "    'host': 'https://clickhouse.lab.karpov.courses',\n",
    "    'password': 'dpo_python_2020',\n",
    "    'user': 'student',\n",
    "    'database': 'simulator_20230620'\n",
    "}\n",
    "\n",
    "q3 = \"\"\"\n",
    "WITH CTR_control as\n",
    "    (SELECT sum(action = 'like') / sum(action = 'view') as CTR_control\n",
    "    FROM {db}.feed_actions\n",
    "    WHERE exp_group = 1)\n",
    "    \n",
    "SELECT \n",
    "    exp_group,\n",
    "    user_id,\n",
    "    sum(action = 'like') as likes,\n",
    "    sum(action = 'view') as views,\n",
    "    sum(action = 'like') / sum(action = 'view') as ctr,\n",
    "    sum(action = 'like') - (SELECT CTR_control FROM CTR_control) * sum(action = 'view') as linerized_likes\n",
    "FROM {db}.feed_actions\n",
    "WHERE \n",
    "    toDate(time) >= '2023-05-31' AND \n",
    "    toDate(time) <= '2023-06-06' AND \n",
    "    exp_group IN (1, 2)\n",
    "GROUP BY exp_group, user_id\n",
    "\"\"\"\n",
    "df = pandahouse.read_clickhouse(q3, connection=connection)\n",
    "group1 = df[df['exp_group'] == 1].copy()\n",
    "group2 = df[df['exp_group'] == 2].copy()"
   ]
  },
  {
   "cell_type": "code",
   "execution_count": 31,
   "id": "c25916be-1888-4f9a-99e8-99a992fc6cc6",
   "metadata": {},
   "outputs": [
    {
     "data": {
      "text/plain": [
       "Ttest_indResult(statistic=6.104713391510412, pvalue=1.0555106533129094e-09)"
      ]
     },
     "execution_count": 31,
     "metadata": {},
     "output_type": "execute_result"
    }
   ],
   "source": [
    "from scipy import stats\n",
    "\n",
    "stats.ttest_ind(group1.linerized_likes,\n",
    "                group2.linerized_likes,\n",
    "                equal_var=False)\n"
   ]
  },
  {
   "cell_type": "code",
   "execution_count": 33,
   "id": "5d20c87f-1408-4ed4-9e31-e8e2164ad570",
   "metadata": {},
   "outputs": [
    {
     "data": {
      "image/png": "[encoded data removed]",
      "text/plain": [
       "<Figure size 432x288 with 1 Axes>"
      ]
     },
     "metadata": {
      "needs_background": "light"
     },
     "output_type": "display_data"
    }
   ],
   "source": [
    "# взглянем на график:\n",
    "plt.hist(group1['linerized_likes'], alpha=0.5, label='Control group')\n",
    "plt.hist(group2['linerized_likes'], alpha=0.5, label='Target group')\n",
    "plt.xlabel('linerized likes')\n",
    "plt.ylabel('Frequency')\n",
    "plt.legend()\n",
    "plt.title('Distribution of linerized likes')\n",
    "plt.show()"
   ]
  },
  {
   "cell_type": "markdown",
   "id": "1b96cccb-e289-43cd-bb91-6ef551f37849",
   "metadata": {},
   "source": [
    "Алгоритм с рекомендациями на основе лайкнутых постов, судя по всему, работает (при уровне значимости 5%). "
   ]
  },
  {
   "cell_type": "code",
   "execution_count": 38,
   "id": "be0ef196-cf9d-4d1c-b607-b2eeb99217cf",
   "metadata": {},
   "outputs": [
    {
     "name": "stdout",
     "output_type": "stream",
     "text": [
      "P-value уменьшилось\n"
     ]
    }
   ],
   "source": [
    "p_value_linerized_likes = stats.ttest_ind(group1.linerized_likes,\n",
    "                group2.linerized_likes,\n",
    "                equal_var=False)[1]\n",
    "p_value_ctr = stats.ttest_ind(group1.ctr,\n",
    "                group2.ctr,\n",
    "                equal_var=False)[1]\n",
    "if (p_value_linerized_likes > p_value_ctr): \n",
    "    print('P-value не уменьшилось')\n",
    "else:\n",
    "    print('P-value уменьшилось')"
   ]
  },
  {
   "cell_type": "code",
   "execution_count": null,
   "id": "e8e4bdd1-57d5-431a-ad2f-87a0d648cc58",
   "metadata": {},
   "outputs": [],
   "source": []
  }
 ],
 "metadata": {
  "kernelspec": {
   "display_name": "Python 3 (ipykernel)",
   "language": "python",
   "name": "python3"
  },
  "language_info": {
   "codemirror_mode": {
    "name": "ipython",
    "version": 3
   },
   "file_extension": ".py",
   "mimetype": "text/x-python",
   "name": "python",
   "nbconvert_exporter": "python",
   "pygments_lexer": "ipython3",
   "version": "3.8.10"
  }
 },
 "nbformat": 4,
 "nbformat_minor": 5
}
